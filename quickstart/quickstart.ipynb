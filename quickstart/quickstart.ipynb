{
 "nbformat_minor": 5,
 "nbformat": 4,
 "metadata": {},
 "cells": [
  {
   "cell_type": "markdown",
   "id": "9c3e81ce-ce14-41ed-b5d8-48bdc84e62ec",
   "metadata": {
    "name": "title",
    "collapsed": false,
    "resultHeight": 403
   },
   "source": "![Winning Variant!](https://static.winningvariant.com/images/brand/winning-variant-header-small.jpg)\n\n# Getting Started with Winning Variant\n\nThe following notebook walks you through a basic example of how to configure and use Winning Variant, the _only_ Snowflake-native experimentation engine.\n\n## Use application\n\nUpdate the following snippet to use the app as it's named in your account..."
  },
  {
   "cell_type": "code",
   "id": "4ae6fc15-9aad-466b-a66a-b7dcde27c2fe",
   "metadata": {
    "language": "sql",
    "name": "sql_set_app",
    "collapsed": false,
    "resultHeight": 0
   },
   "outputs": [],
   "source": "USE WINNING_VARIANT_DEMO_NOTEBOOK;",
   "execution_count": null
  },
  {
   "cell_type": "markdown",
   "id": "bf9e3148-3669-49ce-920c-98d4b2e861dd",
   "metadata": {
    "name": "lab",
    "collapsed": false,
    "resultHeight": 127
   },
   "source": "## Create a Lab\n\nAll experiments live within a [Lab](https://docs.winningvariant.com/resources/labs), with is a workspace that can be assigned to a department, team, or individual. This sample lab is simply called \"Data Science\" for an internal team that builds and optimizes models and algorithms."
  },
  {
   "cell_type": "code",
   "id": "129d2e3c-ea6a-4506-b706-179fb6367440",
   "metadata": {
    "language": "sql",
    "name": "sql_lab",
    "collapsed": false,
    "resultHeight": 0
   },
   "outputs": [],
   "source": "CALL experimentation.apply_resource($$\nschemaVersion: 1\nkind: lab\nmetadata:\n  id: datascience\n  status: active\n  name: Data Science\n  description: Internal Data Science Team\n$$);",
   "execution_count": null
  },
  {
   "cell_type": "markdown",
   "id": "377134da-894c-47e8-b032-bae8d24a8452",
   "metadata": {
    "name": "subject_type",
    "collapsed": false,
    "resultHeight": 127
   },
   "source": "## Create a Subject Type\n\nA [Subject Type](https://docs.winningvariant.com/resources/subjects) is a type of identifier that can enter an experiment. Think of this as the thing that will be tested. Common use cases are \"anonymous IDs\" or a known \"customer ID\". In our example, we'll be testing a search algorithm against all users on our site, so we'll create an `anonymous_id` subject type that is presumably a cookie value stored in the user's browser."
  },
  {
   "cell_type": "code",
   "id": "73490f05-833c-408d-8d06-336b45589f22",
   "metadata": {
    "language": "sql",
    "name": "sql_subject_type",
    "resultHeight": 0
   },
   "outputs": [],
   "source": "CALL experimentation.apply_resource($$\nschemaVersion: 1\nkind: subjecttype\nmetadata:\n  id: anonymous_id\n  status: active\n  name: Anonymous ID stored in browser cookie\nspec:\n  matchType: UUID\n$$);",
   "execution_count": null
  },
  {
   "cell_type": "markdown",
   "id": "812fe8d6-1b51-4ac3-b3fb-3db11aa659f9",
   "metadata": {
    "name": "experiment",
    "collapsed": false,
    "resultHeight": 377
   },
   "source": "## Create Experiment\n\nNow that we have a Lab for the experiment to reside in and a Subject Type to experiment on, we can create an experiment. This experiment is to test a new version of a search algorithm that powers a product search on a website. Ultimately, we're interested in testing if this new version drives more sales.\n\nA few callouts about this experiment:\n\n* We specify the `datascience` lab as its parent.\n* We specify our `anonymous_id` subject type as the one to use when creating assignments.\n* This initial release has just two variants: `control` and `v2`, launched with a 50/50 split in the initial cohort.\n\n**Note about statuses**\n \nEach resource has a `status` field to denote its lifecycle stage (e.g., `draft` vs `active`). For the sake of simplicity, this experiment is created as `active`, which will make it immediately available for generating assignments. In the real world, we'd like create it as a `draft` while we build it out to have it ready for launch and would set it to `active` only when we're ready to launch the experiment.\n"
  },
  {
   "cell_type": "code",
   "id": "840b29f2-57e0-4d71-bdba-6f5961937211",
   "metadata": {
    "language": "sql",
    "name": "sql_experiment",
    "resultHeight": 0
   },
   "outputs": [],
   "source": "CALL experimentation.apply_resource($$\nschemaVersion: 1\nkind: experiment\nmetadata:\n  id: search-v2\n  status: active\n  name: Search Algorithm v2\n  description: \"Test the new version of our internal search algorithm against purchases.\"\n  parentKind: lab\n  parentId: datascience\nspec:\n  subjectType: anonymous_id\n  hypothesis: \"The new version of the search algorithm will increase purchases and return results faster, on average.\"\n  variants:\n    - id: control\n      isControl: true\n      name: Control\n      description: \"Current version of the search algorithm.\"\n    - id: v2\n      isControl: false\n      name: \"v2\"\n      description: \"v2 search algorithm.\"\n  cohorts:\n    - index: 1\n      variants:\n      - variant: control\n        split: 0.5\n      - variant: v2\n        split: 0.5\n$$);",
   "execution_count": null
  },
  {
   "cell_type": "markdown",
   "id": "2c311f11-5e12-4bae-b51c-876821ccb484",
   "metadata": {
    "name": "view_resources",
    "collapsed": false,
    "resultHeight": 127
   },
   "source": "## View Resources\n\nBefore creating assignments, let's take a look at all of the resources we created. We'll do this quickly by performing a union on our [dimension tables](https://docs.winningvariant.com/analytics/dimensions). We could also get resources of a given type using [`experimentation.list_resources()`](https://docs.winningvariant.com/resources/manage#list-resources)."
  },
  {
   "cell_type": "code",
   "id": "739fa3dd-a5fa-4650-a0a3-6cebd4c9ad60",
   "metadata": {
    "language": "sql",
    "name": "sql_view_resources",
    "collapsed": false,
    "resultHeight": 0
   },
   "outputs": [],
   "source": "SELECT 'EXPERIMENT' as kind, id, name, status, description FROM experimentation.experiments\nUNION ALL\nSELECT 'LAB' as kind, id, name, status, description FROM experimentation.labs\nUNION ALL\nSELECT 'SUBJECT_TYPE' as kind, id, name, status, description FROM experimentation.subject_types;",
   "execution_count": null
  },
  {
   "cell_type": "markdown",
   "id": "b927a078-d93a-4b8f-a373-2ff843a8aed7",
   "metadata": {
    "name": "assignments",
    "collapsed": false,
    "resultHeight": 211
   },
   "source": "## Create assignments\n\nNow that everything is created, we'll make some [assignments](https://docs.winningvariant.com/assignments/overview) in our experiment. We define an \"assignment\" as the variant a subject is assigned within an experiment. This represents the variant that the subject/user/etc should see or experience.\n\nWe'll use the [`experimentation.create_assignment()`](https://docs.winningvariant.com/assignments/manage#get-or-make-assignments) procedure, which takes the subject type, subject ID, and experiment ID.\n\nThe `anonymous_id` subject type was set up as a UUID, so we'll use a series of random UUIDs to make assignments with."
  },
  {
   "cell_type": "code",
   "id": "eb5f7be6-2ad6-4617-805d-151825864d4f",
   "metadata": {
    "language": "sql",
    "name": "sql_assignments",
    "collapsed": false,
    "resultHeight": 0
   },
   "outputs": [],
   "source": "SELECT experimentation.create_assignment('anonymous_id', '77e3491c-91a0-4e0e-8485-53d690032a31', 'search-v2');\nSELECT experimentation.create_assignment('anonymous_id', '572bf683-3cc9-461c-bd8a-91e103ef79ef', 'search-v2');\nSELECT experimentation.create_assignment('anonymous_id', '8da7979d-08e5-47b9-a203-1e64557e1e57', 'search-v2');\nSELECT experimentation.create_assignment('anonymous_id', '5cb802c6-483c-4add-a2a6-5c0893a085a8', 'search-v2');\nSELECT experimentation.create_assignment('anonymous_id', '48056be6-af89-468a-a0f8-d003a4a9963c', 'search-v2');\nSELECT experimentation.create_assignment('anonymous_id', '58321770-51cc-4ed9-8b7b-4791f8929584', 'search-v2');\nSELECT experimentation.create_assignment('anonymous_id', '0da6ab28-4a73-4bea-852f-08659a197c12', 'search-v2');\nSELECT experimentation.create_assignment('anonymous_id', '0a1bc9d1-a2c6-464a-89a8-b1dd186172ae', 'search-v2');\nSELECT experimentation.create_assignment('anonymous_id', '0afe2d41-018b-481e-b726-ab0232ee7fe8', 'search-v2');\nSELECT experimentation.create_assignment('anonymous_id', 'a268c96d-9235-4137-bbd2-bb763a73cf71', 'search-v2');\n\nSELECT * FROM experimentation.assignments;",
   "execution_count": null
  }
 ]
}
